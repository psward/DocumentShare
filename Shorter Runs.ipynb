{
 "cells": [
  {
   "cell_type": "code",
   "execution_count": 1,
   "metadata": {},
   "outputs": [],
   "source": [
    "from gerrychain import Graph, Election, updaters, Partition, MarkovChain, constraints\n",
    "from gerrychain.proposals import recom\n",
    "from gerrychain.accept import always_accept\n",
    "from gerrychain.tree import random_spanning_tree, PopulatedGraph, predecessors\n",
    "from collections import deque, namedtuple\n",
    "from functools import partial\n",
    "from collections import Counter\n",
    "import pandas as pd\n",
    "import numpy as np\n",
    "import random\n",
    "from matplotlib import pyplot as plt\n",
    "Cut = namedtuple(\"Cut\", \"edge subset\")\n",
    "\n",
    "\n",
    "##########################################################################################\n",
    "#     THIS IS NO LONGER NEEDED, BUT IS HANDY FOR CHECKING THE SIZE OF THE PARTITIONS     #\n",
    "#                 TURN IT OFF AND REMOVE CONSTRAINT FOR ACTUAL RUNS                      #\n",
    "##########################################################################################\n",
    "# def stop_disappearing(partition):                                                      #\n",
    "#     if not partition.parent:                                                           #\n",
    "#         return True                                                                    #\n",
    "#     sizes_now = [len(part) for part in partition.assignment.parts.values()]            #\n",
    "#     sizes_past = [len(part) for part in partition.parent.assignment.parts.values()]    #\n",
    "#     print(sizes_now, min(sizes_past), max(sizes_past))                                 #\n",
    "#     return all(len(part) > 1 for part in partition.assignment.parts.values())          #\n",
    "##########################################################################################\n",
    "\n",
    "\n",
    "def find_balanced_edge_cuts(h, choice=random.choice):\n",
    "    root = choice([x for x in h if h.degree(x) > 2])\n",
    "    pred = predecessors(h.graph, root)\n",
    "    cuts = []\n",
    "    leaves = deque(x for x in h if h.degree(x) == 1)\n",
    "    while len(leaves) > 0:\n",
    "        leaf = leaves.popleft()\n",
    "        cuts.append(Cut(edge=(leaf, pred[leaf]), subset=h.subsets[leaf].copy()))\n",
    "        parent = pred[leaf]\n",
    "        h.contract_node(leaf, parent)\n",
    "        if h.degree(parent) == 1 and parent != root:\n",
    "            leaves.append(parent)\n",
    "            \n",
    "    even_split = int(len(h.graph.nodes)/2)\n",
    "    #cut_lengths is number of nodes in one of the districts after cut of a specific edge\n",
    "    cut_lengths = np.asarray([len(cuts[i].subset) for i in range(len(cuts))])\n",
    "    cut_distances = np.abs(cut_lengths-even_split)\n",
    "    cut_distances, cuts = zip(*sorted(zip(cut_distances, cuts)))\n",
    "    cut_distances = list(filter(lambda a: a != max(cut_distances), cut_distances))\n",
    "    \n",
    "    temp_d = {}\n",
    "    for i in range(len(cut_distances)):\n",
    "        temp_d[i] = cut_distances[i]\n",
    "    print(temp_d)\n",
    "        # indices of cut_distances\n",
    "    population = list(range(len(cut_distances)))\n",
    "    weight_small_d = (1/(np.asarray(cut_distances)**2+1))\n",
    "    probs = weight_small_d/sum(weight_small_d)\n",
    "#     print(probs)\n",
    "    choice = random.choices(population, probs)[0]\n",
    "#     print(choice)\n",
    "############################################################################## \n",
    "#   VERIFIES THAT YOU ARE SAMPLING FROM ALL POSSIBLE EDGE CHOICES CORRECTLY  #\n",
    "##############################################################################\n",
    "#     d = Counter(random.choices(population, probs, k=100000))               #\n",
    "#     fig = plt.figure(figsize=(12,12))                                      #\n",
    "#     ax = fig.add_subplot(2, 1, 1)                                          #\n",
    "#     plt.bar(d.keys(), d.values(), width=1.0, color='g')                    #\n",
    "#     ax.set_yscale('log')                                                   #\n",
    "#     plt.show()                                                             #\n",
    "#     print(d)                                                               #\n",
    "##############################################################################\n",
    "    return [cuts[choice]]\n",
    "\n",
    "\n",
    "def partition_tree(graph, pop_col, pop_target, epsilon, node_repeats=1, spanning_tree=None, choice=random.choice):\n",
    "    populations = {node: graph.nodes[node][pop_col] for node in graph}\n",
    "    possible_cuts = []\n",
    "    spanning_tree = random_spanning_tree(graph)\n",
    "    while len(possible_cuts) == 0:\n",
    "        spanning_tree = random_spanning_tree(graph)\n",
    "        h = PopulatedGraph(spanning_tree, populations, pop_target, epsilon)\n",
    "        possible_cuts = find_balanced_edge_cuts(h, choice=choice)\n",
    "    return choice(possible_cuts).subset"
   ]
  },
  {
   "cell_type": "code",
   "execution_count": 2,
   "metadata": {},
   "outputs": [],
   "source": [
    "###################################################################\n",
    "#                    *HASHING AND COMPRESSING*                    #\n",
    "# THE PythonObjectEncoder CLASS SERIALIZES GENERIC PYTHON OBJECTS #\n",
    "#         THESE OBJECTS CAN THEN BE COMPRESSED AND SAVED          #\n",
    "###################################################################\n",
    "from json import JSONEncoder, dumps, loads\n",
    "from io import BytesIO\n",
    "import hashlib\n",
    "import pickle\n",
    "import gzip\n",
    "from os import path\n",
    "\n",
    "\n",
    "class PythonObjectEncoder(JSONEncoder):\n",
    "    def __init__(self, partition):\n",
    "        self.partition = partition\n",
    "        self.keys = sorted(list(initial_partition.parts.keys()))\n",
    "        self.objstrings = []\n",
    "        self.hashstrings = []\n",
    "        self.d_plan = dict.fromkeys(self.keys)\n",
    "        \n",
    "        \n",
    "    def __call__(self, obj):\n",
    "        if isinstance(obj, (list, dict, str, bytes, int, float, bool, type(None))):\n",
    "            return JSONEncoder.default(self, obj)\n",
    "        return {'_python_object': pickle.dumps(obj)}\n",
    "    \n",
    "    \n",
    "    def update(self, partition):\n",
    "        for i in range(len(self.keys)):\n",
    "            self.d_plan[self.keys[i]] = list(partition.assignment.parts[self.keys[i]])\n",
    "        encoded_plan = dumps(self.d_plan)\n",
    "        compressed_plan = PythonObjectEncoder.compressStringToBytes(encoded_plan)\n",
    "        hashstring = hashlib.md5(encoded_plan.encode('utf-8')).hexdigest()\n",
    "        self.objstrings.append(compressed_plan)\n",
    "        self.hashstrings.append(hashstring)\n",
    "        \n",
    "        \n",
    "    def commit(self, file_name):\n",
    "        final_table = dict(zip(self.hashstrings,self.objstrings))\n",
    "        self.save_obj(final_table, file_name)\n",
    "        \n",
    "        \n",
    "    def load_maps(self, file_name):\n",
    "        decode_test = self.load_obj(file_name)\n",
    "        recreated_maps = []\n",
    "        for key in decode_test:\n",
    "            recreated_maps.append(loads(PythonObjectEncoder.decompressBytesToString(decode_test[key])))\n",
    "        return recreated_maps\n",
    "        \n",
    "    \n",
    "    @staticmethod\n",
    "    def compressStringToBytes(inputString):\n",
    "        bio = BytesIO()\n",
    "        bio.write(inputString.encode(\"utf-8\"))\n",
    "        bio.seek(0)\n",
    "        stream = BytesIO()\n",
    "        compressor = gzip.GzipFile(fileobj=stream, mode='w')\n",
    "        while True:\n",
    "            chunk = bio.read(8192)\n",
    "            if not chunk:\n",
    "                compressor.close()\n",
    "                return stream.getvalue()\n",
    "            compressor.write(chunk)\n",
    "\n",
    "            \n",
    "    @staticmethod\n",
    "    def decompressBytesToString(inputBytes):\n",
    "        bio = BytesIO()\n",
    "        stream = BytesIO(inputBytes)\n",
    "        decompressor = gzip.GzipFile(fileobj=stream, mode='r')\n",
    "        while True:\n",
    "            chunk = decompressor.read(8192)\n",
    "            if not chunk:\n",
    "                decompressor.close()\n",
    "                bio.seek(0)\n",
    "                return bio.read().decode(\"utf-8\")\n",
    "            bio.write(chunk)\n",
    "        return None\n",
    "    \n",
    "    \n",
    "    @staticmethod\n",
    "    def save_obj(obj, name):\n",
    "        if path.exists(name + '.pkl'):\n",
    "            prev_map = PythonObjectEncoder.load_obj(name)\n",
    "            final_map = {**prev_map, **obj}\n",
    "            with open(name + '.pkl', 'rb+') as f:\n",
    "                pickle.dump(final_map, f, pickle.HIGHEST_PROTOCOL)\n",
    "        else:\n",
    "            with open(name + '.pkl', 'wb') as f:\n",
    "                pickle.dump(obj, f, pickle.HIGHEST_PROTOCOL)\n",
    "        \n",
    "        \n",
    "    @staticmethod\n",
    "    def load_obj(name):\n",
    "        with open(name + '.pkl', 'rb') as f:\n",
    "            return pickle.load(f)"
   ]
  },
  {
   "cell_type": "code",
   "execution_count": 3,
   "metadata": {},
   "outputs": [],
   "source": [
    "filename = \"TX_vtds_fixed\"\n",
    "graph = Graph.from_json(f\"{filename}.json\")\n",
    "\n",
    "office, year = \"PRES\", \"16\"\n",
    "pop_used = \"TOTPOP\"\n",
    "area = \"area\"\n",
    "assign = \"USCD\"\n",
    "\n",
    "elect = office + year\n",
    "elect_D = elect + \"D\"\n",
    "elect_R = elect + \"R\"\n",
    "\n",
    "elections = Election(elect, {\"Dem\": elect_D, \"Rep\": elect_R})\n",
    "\n",
    "my_updaters = {\"population\": updaters.Tally(pop_used, alias=\"population\"), elect: elections}\n",
    "initial_partition = Partition(\n",
    "    graph,\n",
    "    assignment=assign,\n",
    "    updaters=my_updaters\n",
    ")\n",
    "\n",
    "ideal_population = sum(initial_partition[\"population\"].values()) / len(initial_partition)\n",
    "\n",
    "proposal = partial(\n",
    "    recom,\n",
    "    pop_col=pop_used,\n",
    "    pop_target=ideal_population,\n",
    "    epsilon=1,\n",
    "    node_repeats=2,\n",
    "    method=partition_tree\n",
    ")\n",
    "\n",
    "chain = MarkovChain(\n",
    "    proposal=proposal,\n",
    "    accept=always_accept,\n",
    "    constraints = [constraints.contiguous],\n",
    "    initial_state=initial_partition,\n",
    "    total_steps=5\n",
    ")"
   ]
  },
  {
   "cell_type": "code",
   "execution_count": 4,
   "metadata": {},
   "outputs": [
    {
     "name": "stdout",
     "output_type": "stream",
     "text": [
      "running\n",
      "{0: 50, 1: 52, 2: 53, 3: 54, 4: 62, 5: 80, 6: 81, 7: 84, 8: 87, 9: 90, 10: 102, 11: 104, 12: 105, 13: 106, 14: 109, 15: 112, 16: 113, 17: 119, 18: 121, 19: 122, 20: 123, 21: 124, 22: 126, 23: 127, 24: 130, 25: 131, 26: 142, 27: 143, 28: 144, 29: 145, 30: 150, 31: 156, 32: 158, 33: 165, 34: 169, 35: 170, 36: 199, 37: 201, 38: 207, 39: 208, 40: 213, 41: 213, 42: 218, 43: 219, 44: 220, 45: 220, 46: 221, 47: 221, 48: 222, 49: 223, 50: 224, 51: 225, 52: 226, 53: 227, 54: 229, 55: 230, 56: 231, 57: 232, 58: 232, 59: 233, 60: 233, 61: 236, 62: 236, 63: 237, 64: 237, 65: 239, 66: 240, 67: 240, 68: 241, 69: 242, 70: 243, 71: 243, 72: 243, 73: 243, 74: 244, 75: 244, 76: 244, 77: 244, 78: 245, 79: 246, 80: 246, 81: 246, 82: 247, 83: 248, 84: 248, 85: 248, 86: 249, 87: 249, 88: 249, 89: 249, 90: 250, 91: 250, 92: 250, 93: 251, 94: 251, 95: 252, 96: 252, 97: 252, 98: 252, 99: 253, 100: 253, 101: 254, 102: 254, 103: 254, 104: 255, 105: 256, 106: 256, 107: 256, 108: 256, 109: 256, 110: 257, 111: 257, 112: 257, 113: 257, 114: 258, 115: 258, 116: 258, 117: 259, 118: 259, 119: 259, 120: 259, 121: 259, 122: 260, 123: 260, 124: 260, 125: 260, 126: 261, 127: 261, 128: 261, 129: 262, 130: 262, 131: 262, 132: 263, 133: 263, 134: 263, 135: 263, 136: 263, 137: 264, 138: 264, 139: 265, 140: 265, 141: 265, 142: 265, 143: 265, 144: 266, 145: 266, 146: 266, 147: 266, 148: 266, 149: 266, 150: 266, 151: 266, 152: 266, 153: 267, 154: 267, 155: 267, 156: 267, 157: 267, 158: 267, 159: 267, 160: 267, 161: 267, 162: 267, 163: 267, 164: 267, 165: 267, 166: 267, 167: 267, 168: 267, 169: 267, 170: 268, 171: 268, 172: 268, 173: 268, 174: 268, 175: 268, 176: 268, 177: 268, 178: 268, 179: 268, 180: 268, 181: 268, 182: 268, 183: 269, 184: 269, 185: 269, 186: 269, 187: 269, 188: 269, 189: 269, 190: 269, 191: 269, 192: 269, 193: 269, 194: 269, 195: 270, 196: 270, 197: 270, 198: 270, 199: 270, 200: 270, 201: 270, 202: 270, 203: 270, 204: 270, 205: 270, 206: 270, 207: 270, 208: 270, 209: 270, 210: 270, 211: 270, 212: 270, 213: 270, 214: 271, 215: 271, 216: 271, 217: 271, 218: 271, 219: 271, 220: 271, 221: 271, 222: 271, 223: 271, 224: 271, 225: 271, 226: 271, 227: 271, 228: 271, 229: 271, 230: 271, 231: 272, 232: 272, 233: 272, 234: 272, 235: 272, 236: 272, 237: 272, 238: 272, 239: 272, 240: 272, 241: 272, 242: 272, 243: 272, 244: 272, 245: 272, 246: 272, 247: 272, 248: 272, 249: 272, 250: 272, 251: 272, 252: 272, 253: 272, 254: 272, 255: 272, 256: 272, 257: 272, 258: 272, 259: 272, 260: 272, 261: 272, 262: 272, 263: 272, 264: 273, 265: 273, 266: 273, 267: 273, 268: 273, 269: 273, 270: 273, 271: 273, 272: 273, 273: 273, 274: 273, 275: 273, 276: 273, 277: 273, 278: 273, 279: 273, 280: 273, 281: 273, 282: 273, 283: 273, 284: 273, 285: 273, 286: 273, 287: 273, 288: 273, 289: 273, 290: 273, 291: 273, 292: 273, 293: 273, 294: 273, 295: 273, 296: 273, 297: 273, 298: 273, 299: 273, 300: 273, 301: 273, 302: 273, 303: 273, 304: 273, 305: 273, 306: 273, 307: 273, 308: 273, 309: 273, 310: 273, 311: 273, 312: 273, 313: 273, 314: 273, 315: 273, 316: 273, 317: 273, 318: 273, 319: 273, 320: 273, 321: 273, 322: 273, 323: 273, 324: 273, 325: 273, 326: 273, 327: 273, 328: 273, 329: 273, 330: 273, 331: 273, 332: 273, 333: 273, 334: 273, 335: 273, 336: 273, 337: 273}\n"
     ]
    },
    {
     "data": {
      "image/png": "[encoded data removed]",
      "text/plain": [
       "<Figure size 864x864 with 1 Axes>"
      ]
     },
     "metadata": {
      "needs_background": "light"
     },
     "output_type": "display_data"
    },
    {
     "name": "stdout",
     "output_type": "stream",
     "text": [
      "Counter({0: 4607, 1: 4287, 2: 4160, 3: 4078, 4: 3065, 5: 1838, 6: 1769, 7: 1697, 8: 1582, 9: 1405, 10: 1135, 12: 1083, 11: 1049, 13: 1041, 14: 1006, 15: 914, 16: 907, 17: 844, 19: 776, 21: 775, 18: 765, 22: 752, 20: 751, 24: 747, 23: 708, 25: 683, 26: 554, 29: 552, 28: 547, 27: 547, 30: 506, 31: 499, 32: 477, 33: 460, 34: 424, 35: 423, 36: 321, 38: 291, 37: 290, 39: 281, 40: 267, 41: 263, 43: 259, 47: 247, 42: 245, 52: 243, 50: 242, 49: 238, 53: 238, 45: 235, 59: 235, 46: 229, 58: 227, 56: 223, 48: 223, 55: 222, 44: 222, 54: 216, 62: 216, 61: 215, 69: 212, 70: 210, 75: 209, 87: 209, 200: 209, 68: 208, 66: 207, 51: 206, 60: 206, 71: 205, 74: 205, 73: 204, 101: 204, 97: 203, 111: 203, 64: 203, 63: 203, 104: 200, 120: 199, 65: 199, 76: 198, 67: 198, 105: 197, 93: 197, 131: 196, 142: 196, 77: 195, 94: 195, 92: 195, 79: 195, 89: 193, 119: 192, 57: 192, 113: 191, 83: 190, 80: 189, 124: 188, 227: 188, 84: 187, 129: 187, 100: 186, 82: 186, 123: 185, 95: 184, 99: 184, 234: 184, 282: 183, 134: 183, 186: 183, 189: 183, 166: 182, 171: 182, 261: 182, 263: 182, 267: 182, 114: 182, 248: 182, 85: 182, 103: 182, 81: 181, 168: 181, 91: 181, 106: 181, 163: 180, 176: 180, 110: 180, 132: 179, 167: 179, 221: 179, 225: 178, 78: 178, 88: 178, 126: 178, 237: 178, 90: 178, 107: 177, 204: 177, 257: 177, 264: 177, 96: 177, 259: 177, 98: 177, 102: 176, 121: 176, 112: 175, 125: 175, 118: 174, 288: 174, 130: 174, 146: 174, 231: 174, 315: 173, 266: 173, 145: 173, 180: 173, 188: 172, 222: 172, 162: 172, 335: 172, 178: 172, 72: 172, 161: 171, 108: 171, 243: 171, 182: 171, 272: 171, 115: 170, 215: 170, 133: 170, 299: 170, 223: 170, 196: 170, 177: 170, 139: 169, 254: 169, 183: 169, 155: 169, 193: 168, 138: 168, 197: 168, 206: 168, 154: 168, 324: 167, 117: 167, 265: 167, 143: 167, 210: 167, 86: 167, 152: 167, 157: 167, 219: 167, 249: 167, 156: 166, 241: 166, 144: 166, 159: 166, 173: 166, 174: 166, 213: 166, 325: 166, 229: 166, 334: 165, 281: 165, 116: 165, 328: 165, 319: 165, 127: 165, 218: 165, 136: 165, 276: 165, 203: 164, 327: 164, 137: 164, 128: 164, 207: 164, 279: 164, 283: 164, 300: 164, 184: 164, 209: 163, 273: 163, 190: 163, 172: 163, 305: 163, 290: 163, 269: 163, 242: 163, 320: 162, 140: 162, 175: 162, 216: 162, 141: 162, 220: 162, 211: 162, 194: 162, 212: 162, 289: 161, 329: 161, 192: 161, 256: 161, 337: 161, 232: 160, 148: 160, 251: 160, 135: 160, 170: 160, 198: 159, 268: 159, 226: 159, 277: 159, 307: 159, 228: 159, 236: 159, 316: 159, 201: 158, 250: 158, 147: 158, 202: 158, 285: 158, 275: 157, 286: 157, 321: 157, 306: 157, 262: 157, 179: 157, 160: 156, 187: 156, 255: 156, 246: 156, 205: 156, 238: 156, 185: 156, 297: 156, 322: 156, 331: 155, 217: 155, 310: 155, 274: 155, 240: 155, 280: 155, 312: 155, 271: 154, 301: 154, 191: 154, 164: 154, 317: 153, 302: 153, 326: 153, 230: 153, 253: 153, 278: 153, 304: 153, 260: 151, 214: 151, 336: 151, 233: 151, 244: 150, 311: 150, 295: 150, 323: 150, 245: 150, 252: 150, 151: 150, 235: 149, 287: 149, 309: 148, 150: 148, 330: 148, 208: 147, 313: 147, 258: 147, 149: 147, 293: 147, 298: 146, 195: 146, 199: 146, 284: 145, 270: 145, 239: 145, 314: 145, 247: 144, 224: 144, 318: 144, 169: 143, 296: 142, 292: 141, 294: 140, 303: 140, 181: 140, 122: 140, 291: 137, 158: 136, 332: 135, 333: 134, 153: 134, 308: 133, 109: 128, 165: 116})\n",
      "running\n",
      "{0: 3, 1: 5, 2: 6, 3: 7, 4: 10, 5: 12, 6: 13, 7: 16, 8: 17, 9: 20, 10: 22, 11: 35, 12: 36, 13: 37, 14: 42, 15: 43, 16: 44, 17: 44, 18: 45, 19: 46, 20: 47, 21: 47, 22: 52, 23: 53, 24: 55, 25: 58, 26: 59, 27: 63, 28: 64, 29: 68, 30: 73, 31: 78, 32: 79, 33: 79, 34: 80, 35: 80, 36: 82, 37: 82, 38: 83, 39: 84, 40: 87, 41: 89, 42: 92, 43: 93, 44: 94, 45: 95, 46: 97, 47: 98, 48: 99, 49: 100, 50: 101, 51: 101, 52: 103, 53: 104, 54: 104, 55: 105, 56: 106, 57: 107, 58: 107, 59: 108, 60: 109, 61: 111, 62: 112, 63: 113, 64: 114, 65: 115, 66: 116, 67: 117, 68: 118, 69: 123, 70: 125, 71: 131, 72: 131, 73: 132, 74: 132, 75: 133, 76: 133, 77: 133, 78: 133, 79: 134, 80: 134, 81: 135, 82: 136, 83: 136, 84: 137, 85: 139, 86: 139, 87: 140, 88: 141, 89: 141, 90: 142, 91: 142, 92: 142, 93: 143, 94: 143, 95: 143, 96: 144, 97: 144, 98: 144, 99: 144, 100: 145, 101: 145, 102: 146, 103: 146, 104: 146, 105: 147, 106: 147, 107: 147, 108: 147, 109: 147, 110: 147, 111: 148, 112: 148, 113: 148, 114: 148, 115: 149, 116: 149, 117: 149, 118: 149, 119: 149, 120: 149, 121: 150, 122: 150, 123: 150, 124: 150, 125: 150, 126: 150, 127: 150, 128: 150, 129: 151, 130: 151, 131: 151, 132: 151, 133: 151, 134: 151, 135: 151, 136: 151, 137: 151, 138: 151, 139: 151, 140: 151, 141: 151, 142: 152, 143: 152, 144: 152, 145: 152, 146: 152, 147: 152, 148: 152, 149: 152, 150: 152, 151: 152, 152: 152, 153: 152, 154: 152, 155: 152, 156: 152, 157: 152, 158: 152, 159: 152, 160: 153, 161: 153, 162: 153, 163: 153, 164: 153, 165: 153, 166: 153, 167: 153, 168: 153, 169: 153, 170: 153, 171: 153, 172: 153, 173: 153, 174: 153, 175: 153, 176: 153, 177: 153, 178: 153, 179: 153, 180: 153, 181: 153, 182: 153, 183: 153, 184: 153, 185: 153}\n"
     ]
    },
    {
     "data": {
      "image/png": "[encoded data removed]",
      "text/plain": [
       "<Figure size 864x864 with 1 Axes>"
      ]
     },
     "metadata": {
      "needs_background": "light"
     },
     "output_type": "display_data"
    },
    {
     "name": "stdout",
     "output_type": "stream",
     "text": [
      "Counter({0: 41841, 1: 16018, 2: 11323, 3: 8481, 4: 4263, 5: 2857, 6: 2493, 7: 1629, 8: 1461, 9: 1050, 10: 870, 11: 330, 13: 318, 12: 317, 14: 230, 19: 226, 17: 225, 15: 199, 20: 193, 18: 189, 16: 183, 21: 173, 22: 163, 23: 144, 26: 138, 24: 137, 25: 122, 28: 104, 27: 95, 30: 82, 29: 79, 40: 70, 39: 68, 32: 67, 33: 65, 31: 63, 36: 63, 35: 62, 38: 61, 45: 59, 34: 59, 37: 54, 52: 53, 43: 52, 44: 52, 54: 51, 49: 49, 46: 47, 50: 46, 55: 44, 42: 44, 48: 44, 41: 44, 57: 42, 70: 42, 59: 42, 47: 41, 60: 40, 51: 40, 53: 39, 62: 39, 64: 38, 67: 34, 58: 32, 68: 31, 98: 30, 120: 30, 66: 29, 56: 29, 63: 28, 125: 27, 73: 27, 78: 27, 104: 27, 172: 27, 82: 26, 69: 26, 184: 26, 149: 26, 75: 26, 61: 25, 83: 25, 136: 25, 183: 25, 155: 25, 131: 24, 121: 24, 106: 24, 97: 24, 85: 24, 100: 24, 157: 23, 89: 23, 105: 23, 87: 23, 72: 23, 84: 23, 123: 22, 79: 22, 110: 22, 124: 22, 109: 22, 94: 21, 80: 21, 65: 21, 90: 21, 134: 21, 112: 21, 119: 21, 103: 21, 129: 21, 154: 21, 116: 21, 128: 21, 77: 20, 180: 20, 150: 20, 127: 20, 160: 20, 95: 20, 76: 20, 141: 20, 146: 20, 99: 19, 181: 19, 178: 19, 159: 19, 114: 19, 71: 19, 81: 19, 115: 19, 139: 19, 102: 19, 153: 19, 130: 18, 113: 18, 92: 18, 171: 18, 140: 18, 133: 18, 167: 18, 138: 18, 163: 18, 156: 18, 179: 18, 144: 18, 88: 18, 152: 17, 91: 17, 169: 17, 135: 17, 148: 17, 86: 17, 96: 17, 108: 17, 132: 17, 165: 17, 177: 17, 101: 17, 111: 17, 118: 16, 145: 16, 93: 16, 107: 16, 164: 16, 142: 16, 175: 16, 161: 15, 168: 15, 74: 15, 143: 15, 126: 15, 162: 15, 185: 15, 122: 14, 174: 14, 117: 14, 182: 13, 176: 13, 147: 13, 170: 13, 173: 12, 151: 12, 166: 12, 158: 11, 137: 8})\n",
      "running\n",
      "{0: 6, 1: 7, 2: 8, 3: 9, 4: 10, 5: 12, 6: 13, 7: 14, 8: 18, 9: 21, 10: 25, 11: 31, 12: 31, 13: 32, 14: 33, 15: 40, 16: 42, 17: 80, 18: 81, 19: 82, 20: 93, 21: 100, 22: 101, 23: 107, 24: 108, 25: 109, 26: 118, 27: 121, 28: 125, 29: 126, 30: 132, 31: 144, 32: 145, 33: 146, 34: 150, 35: 158, 36: 158, 37: 159, 38: 159, 39: 161, 40: 162, 41: 165, 42: 167, 43: 170, 44: 178, 45: 183, 46: 184, 47: 187, 48: 190, 49: 191, 50: 194, 51: 195, 52: 196, 53: 197, 54: 199, 55: 201, 56: 202, 57: 203, 58: 203, 59: 205, 60: 207, 61: 211, 62: 212, 63: 214, 64: 215, 65: 216, 66: 216, 67: 217, 68: 218, 69: 220, 70: 220, 71: 221, 72: 222, 73: 222, 74: 222, 75: 223, 76: 223, 77: 224, 78: 225, 79: 225, 80: 226, 81: 227, 82: 227, 83: 228, 84: 228, 85: 228, 86: 228, 87: 229, 88: 230, 89: 230, 90: 231, 91: 232, 92: 232, 93: 233, 94: 233, 95: 233, 96: 234, 97: 234, 98: 235, 99: 236, 100: 236, 101: 236, 102: 236, 103: 237, 104: 238, 105: 239, 106: 239, 107: 240, 108: 240, 109: 241, 110: 241, 111: 242, 112: 242, 113: 242, 114: 242, 115: 243, 116: 243, 117: 243, 118: 243, 119: 244, 120: 244, 121: 244, 122: 245, 123: 245, 124: 245, 125: 245, 126: 246, 127: 246, 128: 246, 129: 246, 130: 246, 131: 246, 132: 246, 133: 247, 134: 247, 135: 247, 136: 247, 137: 247, 138: 247, 139: 247, 140: 248, 141: 248, 142: 248, 143: 248, 144: 248, 145: 249, 146: 249, 147: 249, 148: 249, 149: 249, 150: 249, 151: 249, 152: 249, 153: 249, 154: 249, 155: 249, 156: 249, 157: 250, 158: 250, 159: 250, 160: 250, 161: 250, 162: 250, 163: 250, 164: 250, 165: 250, 166: 250, 167: 250, 168: 250, 169: 250, 170: 250, 171: 251, 172: 251, 173: 251, 174: 251, 175: 251, 176: 251, 177: 251, 178: 251, 179: 251, 180: 251, 181: 251, 182: 251, 183: 251, 184: 251, 185: 251, 186: 251, 187: 251, 188: 251, 189: 251, 190: 251, 191: 252, 192: 252, 193: 252, 194: 252, 195: 252, 196: 252, 197: 252, 198: 252, 199: 252, 200: 252, 201: 252, 202: 252, 203: 252, 204: 252, 205: 252, 206: 252, 207: 252, 208: 252, 209: 252, 210: 252, 211: 253, 212: 253, 213: 253, 214: 253, 215: 253, 216: 253, 217: 253, 218: 253, 219: 253, 220: 253, 221: 253, 222: 253, 223: 253, 224: 253, 225: 253, 226: 253, 227: 253, 228: 253, 229: 253, 230: 253, 231: 253, 232: 253, 233: 253, 234: 253, 235: 253, 236: 253, 237: 253, 238: 253, 239: 253, 240: 253, 241: 253, 242: 253, 243: 254, 244: 254, 245: 254, 246: 254, 247: 254, 248: 254, 249: 254, 250: 254, 251: 254, 252: 254, 253: 254, 254: 254, 255: 254, 256: 254, 257: 254, 258: 254, 259: 254, 260: 254, 261: 254, 262: 254, 263: 254, 264: 254, 265: 254, 266: 254, 267: 254, 268: 254, 269: 254, 270: 254, 271: 254, 272: 254, 273: 254, 274: 254, 275: 254, 276: 254, 277: 254, 278: 254, 279: 254, 280: 254, 281: 254, 282: 254, 283: 254, 284: 254, 285: 254, 286: 254, 287: 254, 288: 254, 289: 254, 290: 254, 291: 254, 292: 254, 293: 254, 294: 254, 295: 254, 296: 254, 297: 254, 298: 254, 299: 254, 300: 254, 301: 254, 302: 254, 303: 254, 304: 254, 305: 254, 306: 254, 307: 254, 308: 254, 309: 254, 310: 254, 311: 254, 312: 254, 313: 254}\n"
     ]
    },
    {
     "data": {
      "image/png": "[encoded data removed]",
      "text/plain": [
       "<Figure size 864x864 with 1 Axes>"
      ]
     },
     "metadata": {
      "needs_background": "light"
     },
     "output_type": "display_data"
    },
    {
     "name": "stdout",
     "output_type": "stream",
     "text": [
      "Counter({0: 22188, 1: 16570, 2: 12520, 3: 10309, 4: 8177, 5: 5754, 6: 4811, 7: 4212, 8: 2628, 9: 1859, 10: 1275, 12: 849, 11: 826, 13: 822, 14: 766, 15: 523, 16: 435, 19: 132, 17: 128, 18: 126, 20: 100, 21: 90, 24: 86, 25: 80, 22: 77, 26: 72, 23: 66, 27: 63, 29: 55, 31: 48, 30: 47, 28: 43, 34: 43, 36: 41, 38: 39, 33: 36, 32: 35, 42: 35, 40: 34, 35: 32, 37: 31, 52: 27, 39: 26, 68: 25, 129: 25, 41: 25, 43: 24, 50: 24, 159: 23, 153: 23, 48: 23, 57: 23, 278: 23, 137: 23, 45: 22, 63: 22, 44: 22, 88: 22, 118: 22, 109: 22, 55: 22, 203: 22, 111: 22, 79: 21, 311: 21, 140: 21, 96: 21, 276: 21, 148: 21, 104: 21, 184: 20, 95: 20, 94: 20, 62: 20, 182: 20, 212: 20, 47: 20, 163: 20, 134: 19, 49: 19, 194: 19, 46: 19, 273: 19, 98: 19, 54: 19, 56: 19, 135: 19, 87: 18, 234: 18, 51: 18, 160: 18, 72: 18, 60: 18, 83: 18, 75: 18, 181: 18, 81: 18, 187: 18, 84: 18, 125: 18, 108: 18, 178: 18, 243: 18, 131: 17, 290: 17, 103: 17, 133: 17, 123: 17, 252: 17, 166: 17, 73: 17, 124: 17, 167: 17, 248: 17, 70: 17, 231: 17, 59: 17, 294: 17, 213: 17, 157: 17, 296: 17, 86: 17, 122: 17, 223: 17, 217: 17, 100: 16, 172: 16, 169: 16, 224: 16, 162: 16, 151: 16, 136: 16, 67: 16, 195: 16, 312: 16, 61: 16, 211: 16, 106: 16, 82: 16, 99: 16, 190: 16, 154: 16, 66: 16, 132: 15, 305: 15, 306: 15, 170: 15, 192: 15, 297: 15, 139: 15, 76: 15, 199: 15, 173: 15, 275: 15, 91: 15, 71: 15, 277: 15, 105: 15, 282: 15, 241: 15, 117: 15, 77: 15, 179: 15, 113: 15, 280: 15, 186: 15, 303: 14, 308: 14, 164: 14, 208: 14, 189: 14, 218: 14, 65: 14, 74: 14, 64: 14, 126: 14, 270: 14, 202: 14, 161: 14, 287: 14, 259: 14, 90: 14, 289: 14, 120: 14, 107: 14, 53: 14, 128: 14, 244: 14, 114: 14, 174: 14, 261: 14, 80: 13, 138: 13, 263: 13, 142: 13, 116: 13, 198: 13, 58: 13, 101: 13, 265: 13, 254: 13, 262: 13, 210: 13, 175: 13, 121: 13, 239: 13, 183: 13, 141: 13, 205: 13, 221: 13, 185: 13, 110: 13, 286: 13, 156: 13, 177: 13, 112: 13, 127: 13, 229: 13, 196: 12, 171: 12, 238: 12, 247: 12, 301: 12, 233: 12, 298: 12, 119: 12, 268: 12, 227: 12, 150: 12, 97: 12, 281: 12, 102: 12, 293: 12, 288: 12, 299: 12, 85: 12, 230: 12, 180: 12, 309: 12, 274: 12, 201: 12, 216: 12, 193: 11, 215: 11, 89: 11, 236: 11, 235: 11, 266: 11, 225: 11, 115: 11, 251: 11, 256: 11, 307: 11, 260: 11, 272: 11, 214: 11, 165: 11, 228: 11, 220: 11, 158: 11, 188: 11, 249: 11, 310: 10, 93: 10, 269: 10, 267: 10, 206: 10, 255: 10, 271: 10, 219: 10, 147: 10, 176: 10, 146: 10, 144: 10, 168: 10, 232: 10, 253: 10, 237: 9, 291: 9, 207: 9, 246: 9, 258: 9, 285: 9, 152: 9, 250: 9, 226: 9, 279: 9, 300: 9, 145: 9, 242: 9, 191: 9, 240: 9, 130: 9, 295: 8, 92: 8, 283: 8, 304: 8, 200: 8, 69: 8, 209: 8, 257: 8, 155: 8, 222: 8, 197: 8, 292: 8, 143: 7, 78: 7, 149: 7, 302: 6, 245: 6, 264: 6, 284: 5, 313: 5, 204: 4})\n",
      "running\n",
      "{0: 2, 1: 5, 2: 8, 3: 9, 4: 9, 5: 10, 6: 10, 7: 12, 8: 13, 9: 15, 10: 15, 11: 16, 12: 16, 13: 19, 14: 20, 15: 29, 16: 41, 17: 42, 18: 47, 19: 58, 20: 60, 21: 62, 22: 80, 23: 82, 24: 95, 25: 98, 26: 101, 27: 102, 28: 104, 29: 106, 30: 107, 31: 108, 32: 109, 33: 109, 34: 110, 35: 111, 36: 112, 37: 114, 38: 115, 39: 116, 40: 117, 41: 120, 42: 121, 43: 121, 44: 123, 45: 128, 46: 133, 47: 142, 48: 143, 49: 144, 50: 145, 51: 146, 52: 148, 53: 149, 54: 150, 55: 152, 56: 153, 57: 154, 58: 155, 59: 156, 60: 157, 61: 158, 62: 158, 63: 158, 64: 159, 65: 163, 66: 165, 67: 166, 68: 167, 69: 171, 70: 172, 71: 175, 72: 177, 73: 177, 74: 178, 75: 178, 76: 179, 77: 180, 78: 181, 79: 182, 80: 183, 81: 184, 82: 184, 83: 185, 84: 187, 85: 188, 86: 189, 87: 190, 88: 191, 89: 191, 90: 192, 91: 193, 92: 198, 93: 200, 94: 200, 95: 200, 96: 201, 97: 201, 98: 202, 99: 202, 100: 202, 101: 203, 102: 203, 103: 203, 104: 203, 105: 204, 106: 205, 107: 205, 108: 205, 109: 205, 110: 206, 111: 206, 112: 206, 113: 206, 114: 206, 115: 207, 116: 207, 117: 207, 118: 207, 119: 207, 120: 208, 121: 208, 122: 208, 123: 208, 124: 208, 125: 208, 126: 209, 127: 209, 128: 209, 129: 209, 130: 209, 131: 209, 132: 209, 133: 209, 134: 209, 135: 210, 136: 210, 137: 210, 138: 210, 139: 211, 140: 211, 141: 211, 142: 211, 143: 211, 144: 211, 145: 211, 146: 211, 147: 211, 148: 211, 149: 212, 150: 212, 151: 212, 152: 212, 153: 212, 154: 212, 155: 212, 156: 212, 157: 212, 158: 212, 159: 212, 160: 212, 161: 212, 162: 213, 163: 213, 164: 213, 165: 213, 166: 213, 167: 213, 168: 213, 169: 213, 170: 213, 171: 213, 172: 213, 173: 213, 174: 213, 175: 213, 176: 213, 177: 214, 178: 214, 179: 214, 180: 214, 181: 214, 182: 214, 183: 214, 184: 214, 185: 214, 186: 214, 187: 214, 188: 214, 189: 214, 190: 214, 191: 214, 192: 214, 193: 214, 194: 214, 195: 214, 196: 214, 197: 215, 198: 215, 199: 215, 200: 215, 201: 215, 202: 215, 203: 215, 204: 215, 205: 215, 206: 215, 207: 215, 208: 215, 209: 215, 210: 215, 211: 215, 212: 215, 213: 215, 214: 215, 215: 215, 216: 215, 217: 215, 218: 215, 219: 215, 220: 215, 221: 215, 222: 215, 223: 215, 224: 215, 225: 215, 226: 215, 227: 215, 228: 215, 229: 215, 230: 215, 231: 215, 232: 215, 233: 215, 234: 215, 235: 215, 236: 215, 237: 215, 238: 215, 239: 215, 240: 215, 241: 215, 242: 215, 243: 215, 244: 215, 245: 215, 246: 215, 247: 215, 248: 215, 249: 215, 250: 215, 251: 215, 252: 215}\n"
     ]
    },
    {
     "data": {
      "image/png": "[encoded data removed]",
      "text/plain": [
       "<Figure size 864x864 with 1 Axes>"
      ]
     },
     "metadata": {
      "needs_background": "light"
     },
     "output_type": "display_data"
    },
    {
     "name": "stdout",
     "output_type": "stream",
     "text": [
      "Counter({0: 57784, 1: 11365, 2: 4655, 3: 3548, 4: 3541, 5: 2912, 6: 2845, 7: 1949, 8: 1761, 9: 1313, 10: 1261, 11: 1108, 12: 1098, 13: 838, 14: 749, 15: 328, 16: 172, 17: 153, 18: 138, 21: 78, 20: 78, 19: 75, 23: 53, 22: 45, 24: 44, 25: 42, 27: 39, 28: 33, 26: 32, 41: 32, 30: 31, 34: 29, 54: 27, 39: 27, 35: 27, 36: 22, 55: 21, 37: 21, 45: 21, 32: 21, 44: 20, 29: 19, 43: 19, 52: 19, 46: 18, 31: 18, 67: 18, 38: 17, 47: 17, 40: 17, 51: 16, 48: 15, 33: 15, 71: 14, 69: 14, 57: 14, 176: 13, 49: 13, 218: 13, 50: 13, 246: 13, 42: 13, 207: 12, 97: 12, 68: 12, 80: 12, 145: 12, 120: 12, 238: 12, 63: 12, 66: 12, 81: 12, 98: 11, 61: 11, 191: 11, 85: 11, 154: 11, 102: 11, 78: 11, 124: 11, 114: 10, 213: 10, 140: 10, 252: 10, 65: 10, 56: 10, 182: 10, 186: 10, 146: 10, 228: 10, 137: 10, 143: 10, 214: 10, 60: 9, 200: 9, 205: 9, 122: 9, 79: 9, 74: 9, 123: 9, 185: 9, 100: 9, 242: 9, 240: 9, 202: 9, 126: 9, 89: 9, 83: 9, 106: 9, 112: 9, 241: 9, 247: 9, 95: 9, 58: 9, 128: 9, 148: 9, 73: 9, 198: 9, 110: 9, 192: 9, 212: 8, 226: 8, 72: 8, 168: 8, 187: 8, 199: 8, 190: 8, 53: 8, 136: 8, 248: 8, 121: 8, 75: 8, 215: 8, 239: 8, 174: 8, 135: 8, 119: 8, 117: 7, 235: 7, 152: 7, 184: 7, 113: 7, 223: 7, 161: 7, 196: 7, 64: 7, 107: 7, 189: 7, 234: 7, 243: 7, 59: 7, 172: 7, 93: 7, 169: 7, 150: 7, 159: 7, 70: 7, 134: 7, 245: 7, 153: 7, 138: 7, 232: 7, 204: 7, 101: 7, 229: 7, 183: 7, 149: 6, 151: 6, 225: 6, 103: 6, 181: 6, 206: 6, 132: 6, 99: 6, 160: 6, 96: 6, 130: 6, 244: 6, 90: 6, 131: 6, 230: 6, 195: 6, 251: 6, 157: 6, 62: 6, 127: 6, 162: 6, 221: 6, 109: 6, 173: 6, 76: 6, 250: 6, 227: 6, 129: 6, 219: 6, 105: 5, 87: 5, 177: 5, 209: 5, 197: 5, 139: 5, 86: 5, 166: 5, 233: 5, 133: 5, 236: 5, 104: 5, 142: 5, 211: 5, 165: 5, 194: 5, 84: 5, 193: 5, 91: 5, 179: 5, 164: 5, 208: 5, 249: 5, 180: 5, 201: 5, 203: 5, 82: 5, 147: 4, 88: 4, 220: 4, 222: 4, 115: 4, 188: 4, 167: 4, 237: 4, 111: 4, 116: 4, 155: 4, 141: 4, 144: 4, 163: 4, 94: 4, 170: 4, 217: 4, 118: 4, 216: 3, 125: 3, 231: 3, 178: 3, 108: 3, 158: 3, 77: 3, 92: 3, 156: 3, 171: 3, 210: 2, 175: 2, 224: 1})\n",
      "running\n",
      "CPU times: user 7.78 s, sys: 10 ms, total: 7.79 s\n",
      "Wall time: 7.77 s\n"
     ]
    }
   ],
   "source": [
    "%%time\n",
    "\n",
    "poe = PythonObjectEncoder(initial_partition)\n",
    "\n",
    "for partition in chain:\n",
    "    poe.update(partition)\n",
    "    print(\"running\")"
   ]
  },
  {
   "cell_type": "code",
   "execution_count": null,
   "metadata": {},
   "outputs": [],
   "source": [
    "poe.commit('test')"
   ]
  },
  {
   "cell_type": "code",
   "execution_count": 107,
   "metadata": {},
   "outputs": [
    {
     "name": "stdout",
     "output_type": "stream",
     "text": [
      "CPU times: user 43.7 ms, sys: 48.1 ms, total: 91.7 ms\n",
      "Wall time: 89.3 ms\n"
     ]
    }
   ],
   "source": [
    "%%time\n",
    "poe.commit('test')"
   ]
  },
  {
   "cell_type": "code",
   "execution_count": 108,
   "metadata": {},
   "outputs": [
    {
     "name": "stdout",
     "output_type": "stream",
     "text": [
      "CPU times: user 7.5 s, sys: 1.01 s, total: 8.52 s\n",
      "Wall time: 8.51 s\n"
     ]
    }
   ],
   "source": [
    "%%time\n",
    "reloaded_maps = poe.load_maps('test')"
   ]
  },
  {
   "cell_type": "code",
   "execution_count": 109,
   "metadata": {},
   "outputs": [
    {
     "name": "stdout",
     "output_type": "stream",
     "text": [
      "3059\n"
     ]
    }
   ],
   "source": [
    "print(len(reloaded_maps))"
   ]
  },
  {
   "cell_type": "code",
   "execution_count": null,
   "metadata": {},
   "outputs": [],
   "source": []
  },
  {
   "cell_type": "code",
   "execution_count": 11,
   "metadata": {},
   "outputs": [
    {
     "name": "stdout",
     "output_type": "stream",
     "text": [
      "first check\n"
     ]
    },
    {
     "data": {
      "application/vnd.jupyter.widget-view+json": {
       "model_id": "54a9a6573c03454c948ae1fd297ea151",
       "version_major": 2,
       "version_minor": 0
      },
      "text/plain": [
       "HBox(children=(FloatProgress(value=0.0, max=5.0), HTML(value='')))"
      ]
     },
     "metadata": {},
     "output_type": "display_data"
    },
    {
     "name": "stdout",
     "output_type": "stream",
     "text": [
      "\n",
      "second check\n",
      "Previously Completed Step: 0\n",
      "first check\n"
     ]
    },
    {
     "data": {
      "application/vnd.jupyter.widget-view+json": {
       "model_id": "83746f147848410ea2245937c80bfbaa",
       "version_major": 2,
       "version_minor": 0
      },
      "text/plain": [
       "HBox(children=(FloatProgress(value=0.0, max=5.0), HTML(value='')))"
      ]
     },
     "metadata": {},
     "output_type": "display_data"
    },
    {
     "name": "stdout",
     "output_type": "stream",
     "text": [
      "\n",
      "second check\n",
      "Previously Completed Step: 1\n",
      "first check\n"
     ]
    },
    {
     "data": {
      "application/vnd.jupyter.widget-view+json": {
       "model_id": "cfae3487024e4b739ae586dc5285035b",
       "version_major": 2,
       "version_minor": 0
      },
      "text/plain": [
       "HBox(children=(FloatProgress(value=0.0, max=5.0), HTML(value='')))"
      ]
     },
     "metadata": {},
     "output_type": "display_data"
    },
    {
     "name": "stdout",
     "output_type": "stream",
     "text": [
      "\n",
      "second check\n",
      "Previously Completed Step: 2\n",
      "first check\n"
     ]
    },
    {
     "data": {
      "application/vnd.jupyter.widget-view+json": {
       "model_id": "670f1b37d6014e388926bcc5f21fcfd2",
       "version_major": 2,
       "version_minor": 0
      },
      "text/plain": [
       "HBox(children=(FloatProgress(value=0.0, max=5.0), HTML(value='')))"
      ]
     },
     "metadata": {},
     "output_type": "display_data"
    },
    {
     "name": "stdout",
     "output_type": "stream",
     "text": [
      "\n",
      "second check\n",
      "Previously Completed Step: 3\n",
      "first check\n"
     ]
    },
    {
     "data": {
      "application/vnd.jupyter.widget-view+json": {
       "model_id": "f83290fbdb6e4cecaaaf5f02a036e0c8",
       "version_major": 2,
       "version_minor": 0
      },
      "text/plain": [
       "HBox(children=(FloatProgress(value=0.0, max=5.0), HTML(value='')))"
      ]
     },
     "metadata": {},
     "output_type": "display_data"
    },
    {
     "name": "stdout",
     "output_type": "stream",
     "text": [
      "\n",
      "second check\n",
      "Previously Completed Step: 4\n"
     ]
    }
   ],
   "source": [
    "trials = 5\n",
    "steps = 5\n",
    "epsil = 1\n",
    "for i in range(trials):\n",
    "    chain = MarkovChain(\n",
    "        proposal=proposal,\n",
    "        accept=always_accept,\n",
    "        constraints = [constraints.contiguous],\n",
    "        initial_state=initial_partition,\n",
    "        total_steps=steps\n",
    "    )\n",
    "\n",
    "    print('first check')\n",
    "    data = pd.DataFrame(\n",
    "        sorted(partition[elect].percents(\"Dem\"))\n",
    "        for partition in chain.with_progress_bar()\n",
    "    )\n",
    "\n",
    "    #print(data)\n",
    "    \n",
    "    print('second check')\n",
    "    for k in np.arange(0,steps,1):\n",
    "        data2 = pd.DataFrame(data.iloc[k]).transpose().reset_index(drop=True)\n",
    "        data2['StepNum'] = k+1\n",
    "        data2['RunNum'] = i\n",
    "\n",
    "        if (i == 0) and (k == 0):\n",
    "            with open('p_Week_Run_e{0}.csv'.format(int(epsil*100)), 'a') as file:\n",
    "                data2.to_csv(file, header=True)\n",
    "        else:\n",
    "            with open('p_Week_Run_e{0}.csv'.format(int(epsil*100)), 'a') as file:\n",
    "                data2.to_csv(file, header=False)\n",
    "\n",
    "    print(\"Previously Completed Step: {0}\".format(i))"
   ]
  },
  {
   "cell_type": "code",
   "execution_count": null,
   "metadata": {},
   "outputs": [],
   "source": []
  },
  {
   "cell_type": "code",
   "execution_count": null,
   "metadata": {},
   "outputs": [],
   "source": []
  },
  {
   "cell_type": "code",
   "execution_count": null,
   "metadata": {},
   "outputs": [],
   "source": []
  },
  {
   "cell_type": "code",
   "execution_count": null,
   "metadata": {},
   "outputs": [],
   "source": []
  },
  {
   "cell_type": "code",
   "execution_count": null,
   "metadata": {},
   "outputs": [],
   "source": []
  },
  {
   "cell_type": "code",
   "execution_count": null,
   "metadata": {},
   "outputs": [],
   "source": []
  },
  {
   "cell_type": "code",
   "execution_count": null,
   "metadata": {},
   "outputs": [],
   "source": []
  },
  {
   "cell_type": "code",
   "execution_count": null,
   "metadata": {},
   "outputs": [],
   "source": []
  },
  {
   "cell_type": "code",
   "execution_count": null,
   "metadata": {},
   "outputs": [],
   "source": []
  },
  {
   "cell_type": "code",
   "execution_count": null,
   "metadata": {},
   "outputs": [],
   "source": [
    "######################################################\n",
    "##############     importing libraries  ##############\n",
    "######################################################\n",
    "\n",
    "from gerrychain import (\n",
    "                        Graph, Partition, Election,\n",
    "                        updaters, constraints, accept,\n",
    "                        MarkovChain\n",
    "                        )\n",
    "from gerrychain.updaters import Tally, cut_edges, perimeter, exterior_boundaries, boundary_nodes, interior_boundaries, cut_edges_by_part\n",
    "from gerrychain.metrics import polsby_popper, efficiency_gap\n",
    "from gerrychain.proposals import recom, propose_random_flip\n",
    "from functools import partial\n",
    "from gerrychain.accept import always_accept\n",
    "import pandas\n",
    "import random\n",
    "import numpy as np\n",
    "import tqdm\n",
    "import sys\n",
    "\n",
    "\n",
    "  #### Custom functions that allow us to create conditions to accept a move\n",
    "filename = \"TX_vtds_fixed\"\n",
    "graph = Graph.from_json(f\"{filename}.json\")\n",
    "\n",
    "# Creates a way to quickly change election office, election year, assignment map, and population\n",
    "office, year = \"PRES\", \"16\"\n",
    "pop_used = \"TOTPOP\"\n",
    "area = \"area\"\n",
    "assign = \"USCD\"\n",
    "\n",
    "steps = 2000\n",
    "epsil = 9999\n",
    "\n",
    "# Finishes creation of quick refereces for election cycles\n",
    "elect = office + year\n",
    "elect_D = elect + \"D\"\n",
    "elect_R = elect + \"R\"\n",
    "\n",
    "elections = Election(elect, {\"Dem\": elect_D, \"Rep\": elect_R})\n",
    "\n",
    "k_in = 1\n",
    "    \n",
    "def objective_score(partition, k=k_in):\n",
    "    comp = sum(polsby_popper(partition).values())/(len(partition))\n",
    "    eg = abs(efficiency_gap(partition[elect]))\n",
    "    return k*comp + (1-k)*(1-eg)\n",
    "\n",
    "\n",
    "def custom_objective(partition):\n",
    "    if partition.parent == None:\n",
    "        return False\n",
    "    else:\n",
    "        new = objective_score(partition)\n",
    "        old = objective_score(partition.parent)\n",
    "        if new > old:\n",
    "            return True\n",
    "        else:\n",
    "            bound = min(1, new/old)\n",
    "            rand = random.random()\n",
    "            return rand <= bound\n",
    "\n",
    "def noWorseThanInitial(partition):\n",
    "    if sum(polsby_popper(partition).values())/len(partition) >= sum(polsby_popper(initial_partition).values())/len(initial_partition):\n",
    "        return True\n",
    "    else:\n",
    "        return False\n",
    "\n",
    "\n",
    "######################################################\n",
    "################     creating graph  #################\n",
    "######################################################\n",
    "i=0\n",
    "\n",
    "while i < 100:\n",
    "\n",
    "\n",
    "    #######################################################\n",
    "    ###########     creating initial partition  ###########\n",
    "    #######################################################\n",
    "\n",
    "    initial_partition = Partition(\n",
    "        graph,\n",
    "        assignment=assign,\n",
    "        updaters={\n",
    "            #\"cut_edges\": cut_edges,\n",
    "            \"population\": Tally(pop_used, alias=\"population\"),\n",
    "            #\"area\": Tally(area, alias=\"area\"),\n",
    "            #\"exterior_boundaries\": exterior_boundaries,\n",
    "            #\"interior_boundaries\": interior_boundaries,\n",
    "            #\"boundary_nodes\": boundary_nodes,\n",
    "            #\"cut_edges_by_part\": cut_edges_by_part,\n",
    "            #\"perimeter\": perimeter,\n",
    "            elect: elections\n",
    "        }\n",
    "    )\n",
    "\n",
    "\n",
    "\n",
    "    ######################################################\n",
    "    ###################     proposal     #################\n",
    "    ######################################################\n",
    "\n",
    "    ideal_population = sum(initial_partition[\"population\"].values()) / len(initial_partition)\n",
    "\n",
    "    proposal = partial(recom,\n",
    "                       pop_col=pop_used,\n",
    "                       pop_target=ideal_population,\n",
    "                       epsilon=epsil,\n",
    "                       node_repeats=2\n",
    "                      )\n",
    "\n",
    "    ######################################################\n",
    "    ##############     compactness bound  ###############\n",
    "    ######################################################\n",
    "\n",
    "    # Compactness Bound Constraint\n",
    "    # compactness_bound = constraints.UpperBound(\n",
    "    #     lambda p: len(p[\"cut_edges\"]),\n",
    "    #     2*len(initial_partition[\"cut_edges\"])\n",
    "    # )\n",
    "\n",
    "    # Must be 0.05 for SEND runs\n",
    "    # pop_constraint = constraints.within_percent_of_ideal_population(initial_partition, epsil)\n",
    "\n",
    "\n",
    "    ######################################################\n",
    "    #################     markov chain  ##################\n",
    "    ######################################################\n",
    "\n",
    "    chain = MarkovChain(\n",
    "        proposal=proposal,        \n",
    "        accept=always_accept, #sum(polsby_popper(partition).values())/(len(partition)),    #custom_objective,\n",
    "        constraints = [], #pop_constraint\n",
    "        initial_state=initial_partition,\n",
    "        total_steps=steps\n",
    "    )\n",
    "\n",
    "    # Run the chain, putting the sorted Democratic vote percentages\n",
    "    # into a pandas DataFrame for analysis and plotting.\n",
    "\n",
    "    # This will take about 10 minutes.\n",
    "    \n",
    "    print('first check')\n",
    "    data = pandas.DataFrame(\n",
    "        sorted(partition[elect].percents(\"Dem\")),\n",
    "        for partition in chain.with_progress_bar()\n",
    "    )\n",
    "    \n",
    "    #print(data)\n",
    "\n",
    "    print('second check')\n",
    "    for k in np.arange(0,2000,1):\n",
    "        data2 = pandas.DataFrame(data.iloc[k]).transpose().reset_index(drop=True)\n",
    "        data2['StepNum'] = k+1\n",
    "        data2['RunNum'] = i\n",
    "\n",
    "        if (i == 0) and (k == 0):\n",
    "            with open('Week_Run_e{0}.csv'.format(int(epsil*100)), 'a') as file:\n",
    "                data2.to_csv(file, header=True)\n",
    "        else:\n",
    "            with open('Week_Run_e{0}.csv'.format(int(epsil*100)), 'a') as file:\n",
    "                data2.to_csv(file, header=False)\n",
    "\n",
    "    print(\"Previously Completed Step: {0}\".format(i))\n",
    "    \n",
    "    i+=1"
   ]
  },
  {
   "cell_type": "code",
   "execution_count": null,
   "metadata": {},
   "outputs": [],
   "source": [
    "test = [1,2]\n",
    "for t in test[:-1]\n",
    "    print(t)"
   ]
  },
  {
   "cell_type": "code",
   "execution_count": null,
   "metadata": {},
   "outputs": [],
   "source": [
    "%%time\n",
    "data = pandas.DataFrame(\n",
    "    sorted(partition[elect].percents(\"Dem\"))\n",
    "    for partition in chain\n",
    ")"
   ]
  },
  {
   "cell_type": "code",
   "execution_count": null,
   "metadata": {},
   "outputs": [],
   "source": [
    "data"
   ]
  },
  {
   "cell_type": "code",
   "execution_count": null,
   "metadata": {},
   "outputs": [],
   "source": []
  }
 ],
 "metadata": {
  "kernelspec": {
   "display_name": "Master Env",
   "language": "python",
   "name": "master-env"
  },
  "language_info": {
   "codemirror_mode": {
    "name": "ipython",
    "version": 3
   },
   "file_extension": ".py",
   "mimetype": "text/x-python",
   "name": "python",
   "nbconvert_exporter": "python",
   "pygments_lexer": "ipython3",
   "version": "3.7.6"
  }
 },
 "nbformat": 4,
 "nbformat_minor": 4
}
